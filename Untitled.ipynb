{
 "cells": [
  {
   "cell_type": "code",
   "execution_count": 1,
   "metadata": {},
   "outputs": [],
   "source": [
    "import imageio\n",
    "from skimage import color\n",
    "from PIL import Image\n",
    "import matplotlib.pyplot as plt\n",
    "import math\n",
    "import numpy as np\n",
    "from skimage import morphology\n",
    "import scipy\n",
    "import random"
   ]
  },
  {
   "cell_type": "code",
   "execution_count": 2,
   "metadata": {},
   "outputs": [],
   "source": [
    "image_len = 28\n",
    "image_wid = 28\n",
    "n_augmentation = 50\n"
   ]
  },
  {
   "cell_type": "code",
   "execution_count": 3,
   "metadata": {},
   "outputs": [],
   "source": [
    "def rescale_down_sample(img, new_len, new_wid):\n",
    "    length, width = img.shape\n",
    "    factor_len, remainder_len = divmod(length, new_len)\n",
    "    factor_wid, remainder_wid = divmod(width, new_wid)\n",
    "    off_set_len_inf = math.floor((length-(new_len*factor_len))/2)\n",
    "    off_set_len_sup = math.ceil((length-(new_len*factor_len))/2)\n",
    "    off_set_wid_inf = math.floor((width-(new_wid*factor_wid))/2)\n",
    "    off_set_wid_sup = math.ceil((width-(new_wid*factor_wid))/2)\n",
    "    img = img[off_set_len_inf:length-off_set_len_sup:factor_len,off_set_wid_inf:width - off_set_wid_sup:factor_wid]\n",
    "    assert img.shape == (new_len,new_wid), \"Image is \" + str(img.shape)\n",
    "    return img\n",
    "\n",
    "def rotate_image(img, theta):\n",
    "    pil_img = Image.fromarray(np.uint8((1-img)*255), \"L\")\n",
    "    rotated_img = pil_img.rotate(theta)\n",
    "    return (255 - np.array(rotated_img))/255.\n",
    "\n",
    "def unzoom_image(img, unzoom):\n",
    "    assert unzoom <= 1,\"unzoom must be <= 1\"\n",
    "    length, width = img.shape\n",
    "    pad_len_inf = math.floor((28/unzoom-length)/2)\n",
    "    pad_len_sup = math.ceil((28/unzoom-length)/2)\n",
    "    pad_wid_inf = math.floor((28/unzoom-width)/2)\n",
    "    pad_wid_sup = math.ceil((28/unzoom-width)/2)\n",
    "    padded_img = np.pad(img, ((pad_len_inf, pad_len_sup),(pad_wid_inf, pad_wid_sup)), constant_values = 1)\n",
    "    return scipy.ndimage.zoom(padded_img, unzoom, cval=1)\n",
    "\n",
    "def translate(img, dx, dy):\n",
    "    length, width = img.shape\n",
    "    while min(list(set(img[:, width - abs(dx):].flatten()))) < 0.98:\n",
    "        dx -=1\n",
    "        if dx == 1:\n",
    "            break\n",
    "    while min(list(set(img[length-abs(dy):, :].flatten()))) <0.98:\n",
    "        dy -=1\n",
    "        if dy == 1:\n",
    "            break\n",
    "    x_moved = np.roll(img, dx, 1)\n",
    "    return np.roll(x_moved, dy, 0)\n",
    "\n",
    "def apply_all(img, theta, unzoom, dx, dy):\n",
    "    return translate(unzoom_image(rotate_image(img, theta),unzoom),dx,dy)"
   ]
  },
  {
   "cell_type": "code",
   "execution_count": 5,
   "metadata": {},
   "outputs": [],
   "source": [
    "path = \"operators/\"\n",
    "\n",
    "plus_image = color.rgb2gray(imageio.imread(path + \"+.png\"))\n",
    "minus_image = color.rgb2gray(imageio.imread(path + \"-.png\"))\n",
    "multiply_image = color.rgb2gray(imageio.imread(path + \"*.png\"))\n",
    "divide_image = color.rgb2gray(imageio.imread(path + \"%.png\"))\n",
    "equal_image = color.rgb2gray(imageio.imread(path + \"=.png\"))\n",
    "\n",
    "plus_image_ds = rescale_down_sample(plus_image, image_len, image_wid)\n",
    "minus_image_ds = rescale_down_sample(minus_image, image_len, image_wid)\n",
    "multiply_image_ds = rescale_down_sample(multiply_image, image_len, image_wid)\n",
    "divide_image_ds = rescale_down_sample(divide_image, image_len, image_wid)\n",
    "equal_image_ds = rescale_down_sample(equal_image, image_len, image_wid)"
   ]
  },
  {
   "cell_type": "code",
   "execution_count": 6,
   "metadata": {},
   "outputs": [],
   "source": [
    "augmented_data_set = {'+':[],'-':[],'*':[],'/':[],'=':[]}\n",
    "for i in range(n_augmentation):\n",
    "    theta = random.randint(0,360) if random.uniform(0,1) > 0.2 else 0\n",
    "    unzoom = random.uniform(0.5, 1) if random.uniform(0,1) > 0.2 else 1\n",
    "    dx = random.randint(1, 5) if random.uniform(0,1) > 0.2 else 1\n",
    "    dy = random.randint(1, 5) if random.uniform(0,1) > 0.2 else 1\n",
    "    augmented_plus = apply_all(plus_image_ds,theta, unzoom, dx, dy)\n",
    "    augmented_minus = apply_all(minus_image_ds,theta, unzoom, dx, dy)\n",
    "    augmented_multiply = apply_all(multiply_image_ds,theta, unzoom, dx, dy)\n",
    "    augmented_divide = apply_all(divide_image_ds,theta, unzoom, dx, dy)\n",
    "    augmented_equal = apply_all(equal_image_ds,theta, unzoom, dx, dy)\n",
    "    augmented_data_set['+'].append(augmented_plus)\n",
    "    augmented_data_set['-'].append(augmented_minus)\n",
    "    augmented_data_set['*'].append(augmented_multiply)\n",
    "    augmented_data_set['/'].append(augmented_divide)\n",
    "    augmented_data_set['='].append(augmented_equal)"
   ]
  },
  {
   "cell_type": "code",
   "execution_count": 12,
   "metadata": {},
   "outputs": [
    {
     "data": {
      "text/plain": [
       "<matplotlib.image.AxesImage at 0x1a25b2cd90>"
      ]
     },
     "execution_count": 12,
     "metadata": {},
     "output_type": "execute_result"
    },
    {
     "data": {
      "image/png": "[encoded data removed]",
      "text/plain": [
       "<Figure size 432x288 with 1 Axes>"
      ]
     },
     "metadata": {
      "needs_background": "light"
     },
     "output_type": "display_data"
    }
   ],
   "source": [
    "plt.imshow(augmented_data_set['-'][46])"
   ]
  },
  {
   "cell_type": "code",
   "execution_count": null,
   "metadata": {},
   "outputs": [],
   "source": []
  }
 ],
 "metadata": {
  "kernelspec": {
   "display_name": "Python 3",
   "language": "python",
   "name": "python3"
  },
  "language_info": {
   "codemirror_mode": {
    "name": "ipython",
    "version": 3
   },
   "file_extension": ".py",
   "mimetype": "text/x-python",
   "name": "python",
   "nbconvert_exporter": "python",
   "pygments_lexer": "ipython3",
   "version": "3.7.4"
  }
 },
 "nbformat": 4,
 "nbformat_minor": 4
}
